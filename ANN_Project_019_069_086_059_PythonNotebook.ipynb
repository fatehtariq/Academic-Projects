{
  "nbformat": 4,
  "nbformat_minor": 0,
  "metadata": {
    "colab": {
      "name": "ANN_Project_019_069_086_059.ipynb",
      "provenance": []
    },
    "kernelspec": {
      "name": "python3",
      "display_name": "Python 3"
    }
  },
  "cells": [
    {
      "cell_type": "markdown",
      "metadata": {
        "id": "qvIKlbOPAHYN"
      },
      "source": [
        "# **Artificial Neural Networks - Semester Project**"
      ]
    },
    {
      "cell_type": "markdown",
      "metadata": {
        "id": "kOJvBLF6b0-L"
      },
      "source": [
        "### **Handwritten Digits Classification with Deep Convolutional Neural Networks**"
      ]
    },
    {
      "cell_type": "markdown",
      "metadata": {
        "id": "yISr72qv_a7N"
      },
      "source": [
        "By:\r\n",
        "*   Muhammad Fateh Tariq - FA17_BSCS_019\r\n",
        "*   Mohammad Osama Syed - FA17_BSCS_069\r\n",
        "*   Muhammad Saad Farooq - FA17_BSCS_086\r\n",
        "*   Maryum Mehtab - FA17_BSCS_059"
      ]
    },
    {
      "cell_type": "code",
      "metadata": {
        "id": "UsSN8LZ3IvvA"
      },
      "source": [
        "%matplotlib inline"
      ],
      "execution_count": 1,
      "outputs": []
    },
    {
      "cell_type": "markdown",
      "metadata": {
        "id": "NaVZFT_QJWx0"
      },
      "source": [
        "**Libraries**"
      ]
    },
    {
      "cell_type": "code",
      "metadata": {
        "id": "F5SSSZAUJE8h"
      },
      "source": [
        "import numpy as np     \r\n",
        "import matplotlib.pyplot as plt    \r\n",
        "import random                     \r\n",
        "\r\n",
        "from keras.datasets import mnist    \r\n",
        "from keras.models import Sequential \r\n",
        "\r\n",
        "from keras.layers.core import Dense, Dropout, Activation \r\n",
        "from keras.utils import np_utils                \r\n",
        "\r\n",
        "from keras.preprocessing.image import ImageDataGenerator\r\n",
        "from keras.layers import Conv2D, MaxPooling2D, ZeroPadding2D, GlobalAveragePooling2D, Flatten\r\n",
        "from keras.layers.normalization import BatchNormalization"
      ],
      "execution_count": 3,
      "outputs": []
    },
    {
      "cell_type": "markdown",
      "metadata": {
        "id": "7j5a3mrEJatb"
      },
      "source": [
        "**Data Preprocessing**"
      ]
    },
    {
      "cell_type": "code",
      "metadata": {
        "colab": {
          "base_uri": "https://localhost:8080/"
        },
        "id": "OjxWU0WQJKKb",
        "outputId": "ed2c50e1-c668-48cc-9ee7-e716abe33795"
      },
      "source": [
        "(X_train, y_train), (X_test, y_test) = mnist.load_data()"
      ],
      "execution_count": 4,
      "outputs": [
        {
          "output_type": "stream",
          "text": [
            "Downloading data from https://storage.googleapis.com/tensorflow/tf-keras-datasets/mnist.npz\n",
            "11493376/11490434 [==============================] - 0s 0us/step\n"
          ],
          "name": "stdout"
        }
      ]
    },
    {
      "cell_type": "markdown",
      "metadata": {
        "id": "pnaww7LHQg-v"
      },
      "source": [
        "Normalisation of Data"
      ]
    },
    {
      "cell_type": "code",
      "metadata": {
        "colab": {
          "base_uri": "https://localhost:8080/"
        },
        "id": "kPQUb9hXJhJm",
        "outputId": "556001c8-806e-4429-fbc7-50e1d31556cd"
      },
      "source": [
        "X_train = X_train.reshape(60000, 28, 28, 1) \r\n",
        "X_test = X_test.reshape(10000, 28, 28, 1)\r\n",
        "\r\n",
        "X_train = X_train.astype('float32')       \r\n",
        "X_test = X_test.astype('float32')\r\n",
        "\r\n",
        "X_train /= 255                             \r\n",
        "X_test /= 255\r\n",
        "\r\n",
        "print(\"Training matrix shape\", X_train.shape)\r\n",
        "print(\"Testing matrix shape\", X_test.shape)"
      ],
      "execution_count": 5,
      "outputs": [
        {
          "output_type": "stream",
          "text": [
            "Training matrix shape (60000, 28, 28, 1)\n",
            "Testing matrix shape (10000, 28, 28, 1)\n"
          ],
          "name": "stdout"
        }
      ]
    },
    {
      "cell_type": "code",
      "metadata": {
        "id": "S1zQQ4CvJpRO"
      },
      "source": [
        "nb_classes = 10 \r\n",
        "\r\n",
        "Y_train = np_utils.to_categorical(y_train, nb_classes)\r\n",
        "Y_test = np_utils.to_categorical(y_test, nb_classes)"
      ],
      "execution_count": 6,
      "outputs": []
    },
    {
      "cell_type": "markdown",
      "metadata": {
        "id": "7KHHAJE_hGj9"
      },
      "source": [
        "**Deep Convolutional Model**"
      ]
    },
    {
      "cell_type": "code",
      "metadata": {
        "id": "SwReccUJJ1aL"
      },
      "source": [
        "model = Sequential()\r\n",
        "\r\n",
        "# Convolution Layer 1\r\n",
        "model.add(Conv2D(32, (3, 3), input_shape=(28,28,1))) \r\n",
        "model.add(BatchNormalization(axis=-1))              \r\n",
        "convLayer01 = Activation('relu')                    \r\n",
        "model.add(convLayer01)\r\n",
        "\r\n",
        "# Convolution Layer 2\r\n",
        "model.add(Conv2D(32, (3, 3)))                   \r\n",
        "model.add(BatchNormalization(axis=-1))              \r\n",
        "model.add(Activation('relu'))\r\n",
        "# Pooling Layer 1                 \r\n",
        "convLayer02 = MaxPooling2D(pool_size=(2,2))          \r\n",
        "model.add(convLayer02)\r\n",
        "\r\n",
        "# Convolution Layer 3\r\n",
        "model.add(Conv2D(64,(3, 3)))                      \r\n",
        "model.add(BatchNormalization(axis=-1))              \r\n",
        "convLayer03 = Activation('relu')               \r\n",
        "model.add(convLayer03)\r\n",
        "\r\n",
        "# Convolution Layer 4\r\n",
        "model.add(Conv2D(64, (3, 3)))                       \r\n",
        "model.add(BatchNormalization(axis=-1))            \r\n",
        "model.add(Activation('relu'))\r\n",
        "# Pooling Layer 2                    \r\n",
        "convLayer04 = MaxPooling2D(pool_size=(2,2))        \r\n",
        "model.add(convLayer04)\r\n",
        "model.add(Flatten())                               \r\n",
        "\r\n",
        "# Fully Connected Layer 5\r\n",
        "model.add(Dense(512))                          \r\n",
        "model.add(BatchNormalization())             \r\n",
        "model.add(Activation('relu'))                \r\n",
        "\r\n",
        "# Fully Connected Layer 6                       \r\n",
        "model.add(Dropout(0.2))                           \r\n",
        "model.add(Dense(10))                              \r\n",
        "model.add(Activation('softmax'))                    "
      ],
      "execution_count": 7,
      "outputs": []
    },
    {
      "cell_type": "code",
      "metadata": {
        "colab": {
          "base_uri": "https://localhost:8080/"
        },
        "id": "ad6TPKv7J_Lm",
        "outputId": "e1273fe6-a760-45b2-f4f7-f871fd7cb741"
      },
      "source": [
        "model.summary()"
      ],
      "execution_count": 8,
      "outputs": [
        {
          "output_type": "stream",
          "text": [
            "Model: \"sequential\"\n",
            "_________________________________________________________________\n",
            "Layer (type)                 Output Shape              Param #   \n",
            "=================================================================\n",
            "conv2d (Conv2D)              (None, 26, 26, 32)        320       \n",
            "_________________________________________________________________\n",
            "batch_normalization (BatchNo (None, 26, 26, 32)        128       \n",
            "_________________________________________________________________\n",
            "activation (Activation)      (None, 26, 26, 32)        0         \n",
            "_________________________________________________________________\n",
            "conv2d_1 (Conv2D)            (None, 24, 24, 32)        9248      \n",
            "_________________________________________________________________\n",
            "batch_normalization_1 (Batch (None, 24, 24, 32)        128       \n",
            "_________________________________________________________________\n",
            "activation_1 (Activation)    (None, 24, 24, 32)        0         \n",
            "_________________________________________________________________\n",
            "max_pooling2d (MaxPooling2D) (None, 12, 12, 32)        0         \n",
            "_________________________________________________________________\n",
            "conv2d_2 (Conv2D)            (None, 10, 10, 64)        18496     \n",
            "_________________________________________________________________\n",
            "batch_normalization_2 (Batch (None, 10, 10, 64)        256       \n",
            "_________________________________________________________________\n",
            "activation_2 (Activation)    (None, 10, 10, 64)        0         \n",
            "_________________________________________________________________\n",
            "conv2d_3 (Conv2D)            (None, 8, 8, 64)          36928     \n",
            "_________________________________________________________________\n",
            "batch_normalization_3 (Batch (None, 8, 8, 64)          256       \n",
            "_________________________________________________________________\n",
            "activation_3 (Activation)    (None, 8, 8, 64)          0         \n",
            "_________________________________________________________________\n",
            "max_pooling2d_1 (MaxPooling2 (None, 4, 4, 64)          0         \n",
            "_________________________________________________________________\n",
            "flatten (Flatten)            (None, 1024)              0         \n",
            "_________________________________________________________________\n",
            "dense (Dense)                (None, 512)               524800    \n",
            "_________________________________________________________________\n",
            "batch_normalization_4 (Batch (None, 512)               2048      \n",
            "_________________________________________________________________\n",
            "activation_4 (Activation)    (None, 512)               0         \n",
            "_________________________________________________________________\n",
            "dropout (Dropout)            (None, 512)               0         \n",
            "_________________________________________________________________\n",
            "dense_1 (Dense)              (None, 10)                5130      \n",
            "_________________________________________________________________\n",
            "activation_5 (Activation)    (None, 10)                0         \n",
            "=================================================================\n",
            "Total params: 597,738\n",
            "Trainable params: 596,330\n",
            "Non-trainable params: 1,408\n",
            "_________________________________________________________________\n"
          ],
          "name": "stdout"
        }
      ]
    },
    {
      "cell_type": "markdown",
      "metadata": {
        "id": "IFvWOZjVhRal"
      },
      "source": [
        "**Model Compilation**"
      ]
    },
    {
      "cell_type": "code",
      "metadata": {
        "id": "Z-vo6_vmKENs"
      },
      "source": [
        "model.compile(loss='categorical_crossentropy', optimizer='adam', metrics=['accuracy'])"
      ],
      "execution_count": 9,
      "outputs": []
    },
    {
      "cell_type": "code",
      "metadata": {
        "id": "4qVf0c6dKJf5"
      },
      "source": [
        "gen = ImageDataGenerator(rotation_range=8, width_shift_range=0.08, shear_range=0.3,\r\n",
        "                         height_shift_range=0.08, zoom_range=0.08)\r\n",
        "\r\n",
        "test_gen = ImageDataGenerator()"
      ],
      "execution_count": 10,
      "outputs": []
    },
    {
      "cell_type": "code",
      "metadata": {
        "id": "UfYnM2GuKMPN"
      },
      "source": [
        "train_generator = gen.flow(X_train, Y_train, batch_size=128)\r\n",
        "test_generator = test_gen.flow(X_test, Y_test, batch_size=128)"
      ],
      "execution_count": 11,
      "outputs": []
    },
    {
      "cell_type": "markdown",
      "metadata": {
        "id": "po-EqNlIOi86"
      },
      "source": [
        "**Model Training**"
      ]
    },
    {
      "cell_type": "markdown",
      "metadata": {
        "id": "rkD7KVVZQpcb"
      },
      "source": [
        "Batch Size: 128\r\n",
        "Steps per Epoch : 60,000/128 for 5 Epochs\r\n"
      ]
    },
    {
      "cell_type": "markdown",
      "metadata": {
        "id": "sEEr6GZFQ5k2"
      },
      "source": [
        "Validation Steps: 10,000/128"
      ]
    },
    {
      "cell_type": "code",
      "metadata": {
        "colab": {
          "base_uri": "https://localhost:8080/"
        },
        "id": "w5BDd0KtKTBL",
        "outputId": "7d54ff83-5bf5-495d-cf33-549cfe26d1a5"
      },
      "source": [
        "model.fit_generator(train_generator, steps_per_epoch=60000//128, epochs=5, verbose=1, \r\n",
        "                    validation_data=test_generator, validation_steps=10000//128)"
      ],
      "execution_count": 12,
      "outputs": [
        {
          "output_type": "stream",
          "text": [
            "/usr/local/lib/python3.6/dist-packages/tensorflow/python/keras/engine/training.py:1844: UserWarning: `Model.fit_generator` is deprecated and will be removed in a future version. Please use `Model.fit`, which supports generators.\n",
            "  warnings.warn('`Model.fit_generator` is deprecated and '\n"
          ],
          "name": "stderr"
        },
        {
          "output_type": "stream",
          "text": [
            "Epoch 1/5\n",
            "468/468 [==============================] - 188s 398ms/step - loss: 0.2857 - accuracy: 0.9091 - val_loss: 0.0697 - val_accuracy: 0.9809\n",
            "Epoch 2/5\n",
            "468/468 [==============================] - 178s 379ms/step - loss: 0.0532 - accuracy: 0.9839 - val_loss: 0.0259 - val_accuracy: 0.9905\n",
            "Epoch 3/5\n",
            "468/468 [==============================] - 178s 380ms/step - loss: 0.0360 - accuracy: 0.9885 - val_loss: 0.0347 - val_accuracy: 0.9880\n",
            "Epoch 4/5\n",
            "468/468 [==============================] - 178s 380ms/step - loss: 0.0334 - accuracy: 0.9891 - val_loss: 0.0227 - val_accuracy: 0.9928\n",
            "Epoch 5/5\n",
            "468/468 [==============================] - 178s 381ms/step - loss: 0.0319 - accuracy: 0.9896 - val_loss: 0.0224 - val_accuracy: 0.9928\n"
          ],
          "name": "stdout"
        },
        {
          "output_type": "execute_result",
          "data": {
            "text/plain": [
              "<tensorflow.python.keras.callbacks.History at 0x7fc2eb0d19b0>"
            ]
          },
          "metadata": {
            "tags": []
          },
          "execution_count": 12
        }
      ]
    },
    {
      "cell_type": "markdown",
      "metadata": {
        "id": "gsR6FJseAx5F"
      },
      "source": [
        "**Model Evaluation**"
      ]
    },
    {
      "cell_type": "code",
      "metadata": {
        "colab": {
          "base_uri": "https://localhost:8080/"
        },
        "id": "PyXnRNOeKX8S",
        "outputId": "4fdcad25-f6ae-4563-8fe6-c8a25fd0b437"
      },
      "source": [
        "score = model.evaluate(X_test, Y_test)\r\n",
        "print('Test score:', score[0])\r\n",
        "print('Test accuracy:', score[1])"
      ],
      "execution_count": 13,
      "outputs": [
        {
          "output_type": "stream",
          "text": [
            "313/313 [==============================] - 8s 25ms/step - loss: 0.0223 - accuracy: 0.9928\n",
            "Test score: 0.022332776337862015\n",
            "Test accuracy: 0.9927999973297119\n"
          ],
          "name": "stdout"
        }
      ]
    },
    {
      "cell_type": "markdown",
      "metadata": {
        "id": "WI9OUOpOA1Gn"
      },
      "source": [
        "**MNIST Figure Representation**"
      ]
    },
    {
      "cell_type": "code",
      "metadata": {
        "colab": {
          "base_uri": "https://localhost:8080/",
          "height": 282
        },
        "id": "IAintIekOCH-",
        "outputId": "70e261f9-0216-40dd-887f-e7e2487e1fd3"
      },
      "source": [
        "plt.figure()\r\n",
        "plt.imshow(X_test[3].reshape(28,28), cmap='gray', interpolation='none')"
      ],
      "execution_count": 15,
      "outputs": [
        {
          "output_type": "execute_result",
          "data": {
            "text/plain": [
              "<matplotlib.image.AxesImage at 0x7fc2e8f02390>"
            ]
          },
          "metadata": {
            "tags": []
          },
          "execution_count": 15
        },
        {
          "output_type": "display_data",
          "data": {
            "image/png": "[encoded data removed]",
            "text/plain": [
              "<Figure size 432x288 with 1 Axes>"
            ]
          },
          "metadata": {
            "tags": [],
            "needs_background": "light"
          }
        }
      ]
    },
    {
      "cell_type": "code",
      "metadata": {
        "id": "l8pZ1DBqOH_-"
      },
      "source": [
        ""
      ],
      "execution_count": null,
      "outputs": []
    }
  ]
}